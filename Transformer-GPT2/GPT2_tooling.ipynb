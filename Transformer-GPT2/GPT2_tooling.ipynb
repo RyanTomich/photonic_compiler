{
 "cells": [
  {
   "cell_type": "markdown",
   "metadata": {},
   "source": [
    "Tools to work with TVM's Json graph representation"
   ]
  },
  {
   "cell_type": "code",
   "execution_count": 3,
   "metadata": {},
   "outputs": [
    {
     "name": "stdout",
     "output_type": "stream",
     "text": [
      "dict_keys(['nodes', 'arg_nodes', 'heads', 'attrs', 'node_row_ptr'])\n",
      "1108\n",
      "dict_keys(['op', 'name', 'inputs'])\n"
     ]
    }
   ],
   "source": [
    "import os\n",
    "import json\n",
    "\n",
    "read_json_path = \"/home/rjtomich/photonic_compiler/Transformer-GPT2/GPT2_grap.json\"\n",
    "# read_json_path = os.path.join(current_directory, '..', 'Pytorch-GPT2', 'GPT2_graph.json')\n",
    "with open(read_json_path)  as json_file:\n",
    "    raw_json = json.load(json_file) # returns json file as dict\n",
    "\n",
    "print(raw_json.keys())\n",
    "print(len(raw_json['nodes']))\n",
    "print(raw_json['nodes'][5].keys())\n"
   ]
  },
  {
   "cell_type": "code",
   "execution_count": 5,
   "metadata": {},
   "outputs": [],
   "source": [
    "# print the function name of each node\n",
    "for node in raw_json['nodes']:\n",
    "    shapes = []\n",
    "    for i in node['inputs']:\n",
    "        shapes.append(raw_json['attrs']['shape'][1][i[0]])\n",
    "\n",
    "    # print(f\"{node['name']}  :  {shapes}\")\n",
    "    # if 'attrs' in node:\n",
    "    #     print(node['attrs'])"
   ]
  },
  {
   "cell_type": "markdown",
   "metadata": {},
   "source": [
    "### Useful Terminal Commands\n",
    "Generate the Lib0.o file by running\n",
    "> tar -xvf model_lib.tar\n",
    "Lib0.o is machiene code\n",
    "\n",
    "to get function names\n",
    "> nm lib0.o \n",
    "\n",
    "to get assembly version of the code\n",
    "> objdump -d lib0.o\n",
    "\n",
    "Aditional info\n",
    "> readelf -a lob0.o"
   ]
  }
 ],
 "metadata": {
  "kernelspec": {
   "display_name": "Python 3",
   "language": "python",
   "name": "python3"
  },
  "language_info": {
   "codemirror_mode": {
    "name": "ipython",
    "version": 3
   },
   "file_extension": ".py",
   "mimetype": "text/x-python",
   "name": "python",
   "nbconvert_exporter": "python",
   "pygments_lexer": "ipython3",
   "version": "3.8.10"
  }
 },
 "nbformat": 4,
 "nbformat_minor": 2
}
