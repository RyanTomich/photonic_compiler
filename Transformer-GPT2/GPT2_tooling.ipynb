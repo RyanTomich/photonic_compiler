{
 "cells": [
  {
   "cell_type": "markdown",
   "metadata": {},
   "source": [
    "Tools to work with TVM's Json graph representation"
   ]
  },
  {
   "cell_type": "code",
   "execution_count": 3,
   "metadata": {},
   "outputs": [
    {
     "name": "stdout",
     "output_type": "stream",
     "text": [
      "dict_keys(['nodes', 'arg_nodes', 'heads', 'attrs', 'node_row_ptr'])\n",
      "num_nodes:568\n",
      "num_arg_nodes:162\n",
      "num_heads:25\n",
      "num_dltypes 592\n",
      "num_device_index 592\n",
      "num_storage_id 592\n",
      "num_shape 592\n",
      "num_node_row_ptr:569\n"
     ]
    }
   ],
   "source": [
    "import os\n",
    "import json\n",
    "\n",
    "# read_json_path = \"/home/rjtomich/photonic_compiler/Transformer-GPT2/GPT2_grap.json\"\n",
    "read_json_path = \"/home/rjtomich/photonic_compiler/model_to_graph/gpt2_graph.json\"\n",
    "# read_json_path = \"/home/rjtomich/photonic_compiler/Pytorch-LeNet/simple_LeNet_graph.json\"\n",
    "# read_json_path = os.path.join(current_directory, '..', 'Pytorch-GPT2', 'GPT2_graph.json')\n",
    "with open(read_json_path)  as json_file:\n",
    "    raw_json = json.load(json_file) # returns json file as dict\n",
    "\n",
    "print(raw_json.keys())\n",
    "print(f\"num_nodes:{len(raw_json['nodes'])}\")\n",
    "print(f\"num_arg_nodes:{len(raw_json['arg_nodes'])}\")\n",
    "print(f\"num_heads:{len(raw_json['heads'])}\")\n",
    "\n",
    "print(f\"num_dltypes {len(raw_json['attrs']['dltype'][1])}\")\n",
    "print(f\"num_device_index {len(raw_json['attrs']['device_index'][1])}\")\n",
    "print(f\"num_storage_id {len(raw_json['attrs']['storage_id'][1])}\")\n",
    "print(f\"num_shape {len(raw_json['attrs']['shape'][1])}\")\n",
    "\n",
    "print(f\"num_node_row_ptr:{len(raw_json['node_row_ptr'])}\")\n"
   ]
  },
  {
   "cell_type": "code",
   "execution_count": 4,
   "metadata": {},
   "outputs": [
    {
     "name": "stdout",
     "output_type": "stream",
     "text": [
      "dict_keys(['nodes', 'arg_nodes', 'heads', 'attrs', 'node_row_ptr'])\n",
      "max_arg_nodes:553\n",
      "max_heads:[567, 0, 0]\n",
      "max_device_index 1\n",
      "max_storage_id 193\n",
      "max_node_row_ptr:592\n"
     ]
    }
   ],
   "source": [
    "print(raw_json.keys())\n",
    "print(f\"max_arg_nodes:{max(raw_json['arg_nodes'])}\")\n",
    "print(f\"max_heads:{max(raw_json['heads'])}\")\n",
    "\n",
    "print(f\"max_device_index {max(raw_json['attrs']['device_index'][1])}\")\n",
    "print(f\"max_storage_id {max(raw_json['attrs']['storage_id'][1])}\")\n",
    "\n",
    "print(f\"max_node_row_ptr:{max(raw_json['node_row_ptr'])}\")"
   ]
  },
  {
   "cell_type": "code",
   "execution_count": 18,
   "metadata": {},
   "outputs": [],
   "source": [
    "# print the function name of each node\n",
    "for node in raw_json['nodes']:\n",
    "    shapes = []\n",
    "    for i in node['inputs']:\n",
    "        shapes.append(raw_json['attrs']['shape'][1][i[0]])\n",
    "\n",
    "    # print(f\"{node['name']}  :  {shapes}\")\n",
    "    # if 'attrs' in node:\n",
    "    #     print(node['attrs'])"
   ]
  },
  {
   "cell_type": "markdown",
   "metadata": {},
   "source": [
    "### Useful Terminal Commands\n",
    "Generate the Lib0.o file by running\n",
    "> tar -xvf model_lib.tar\n",
    "Lib0.o is machiene code\n",
    "\n",
    "to get function names\n",
    "> nm lib0.o \n",
    "\n",
    "to get assembly version of the code\n",
    "> objdump -d lib0.o\n",
    "\n",
    "Aditional info\n",
    "> readelf -a lob0.o"
   ]
  }
 ],
 "metadata": {
  "kernelspec": {
   "display_name": "Python 3",
   "language": "python",
   "name": "python3"
  },
  "language_info": {
   "codemirror_mode": {
    "name": "ipython",
    "version": 3
   },
   "file_extension": ".py",
   "mimetype": "text/x-python",
   "name": "python",
   "nbconvert_exporter": "python",
   "pygments_lexer": "ipython3",
   "version": "3.8.10"
  }
 },
 "nbformat": 4,
 "nbformat_minor": 2
}
