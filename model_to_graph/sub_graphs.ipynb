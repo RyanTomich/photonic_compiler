{
 "cells": [
  {
   "cell_type": "code",
   "execution_count": 49,
   "metadata": {},
   "outputs": [],
   "source": [
    "import json\n",
    "import networkx as nx\n",
    "import numpy as np\n",
    "import matplotlib.pyplot as plt\n",
    "import time\n",
    "import copy\n",
    "\n",
    "import dijkstra as dijk\n",
    "import stacked_graph as sg\n",
    "import testing as test\n",
    "import graph_visualization as gv"
   ]
  },
  {
   "cell_type": "markdown",
   "metadata": {},
   "source": [
    "# 1"
   ]
  },
  {
   "cell_type": "code",
   "execution_count": 4,
   "metadata": {},
   "outputs": [],
   "source": [
    "\n",
    "# read_json_path = '/home/rjtomich/photonic_compiler/model_to_graph/gpt2_graph.json'\n",
    "# # read_json_path = '/home/rjtomich/photonic_compiler/model_to_graph/bert-base-uncased_graph.json'\n",
    "# # read_json_path = '/home/rjtomich/photonic_compiler/Pytorch-LeNet/simple_LeNet_graph.json'\n",
    "# # read_json_path = '/home/rjtomich/photonic_compiler/Pytorch-LeNet/simple_LeNet_graph_NoFusion.json'\n",
    "# with open(read_json_path)  as json_file:\n",
    "#     raw_json = json.load(json_file) # returns json file as dict\n",
    "\n",
    "# graph = sg.StackedGraph(raw_json=raw_json)\n",
    "\n",
    "# subgraphs = list(dijk.graph_partition(graph))\n",
    "# dijk.select_nodes(graph, subgraphs)\n"
   ]
  },
  {
   "cell_type": "code",
   "execution_count": 5,
   "metadata": {},
   "outputs": [],
   "source": [
    "# groups = list(graph.get_node_groups(ASAP = False))\n",
    "# print(test.group_validate(graph, groups))\n",
    "# for group in groups:\n",
    "#     print(group)\n"
   ]
  },
  {
   "cell_type": "code",
   "execution_count": 6,
   "metadata": {},
   "outputs": [],
   "source": [
    "# n_graphs = len(groups)\n",
    "# n_cols = 6  # Number of columns for the grid\n",
    "# n_rows = (n_graphs + n_cols - 1) // n_cols  # Calculate the number of rows needed\n",
    "\n",
    "# fig, axes = plt.subplots(n_rows, n_cols, figsize=(n_cols * 3, n_rows * 3))\n",
    "# axes = axes.flatten()  # Flatten the array of axes\n",
    "\n",
    "\n",
    "# for i in range(len(groups)):\n",
    "#     if i >= 0:\n",
    "#         test_group = groups[i]\n",
    "\n",
    "#         start_stack = sg.StackedNode(0, [], [[]], [[]], opp='start', func_stack=['start'], cost_stack=[0])\n",
    "#         first_stack = copy.deepcopy(graph.stack_list[graph.id_to_idx[test_group[0]]])\n",
    "#         first_stack.parents = [0]\n",
    "\n",
    "#         subgraph_stack_list = [start_stack, first_stack]\n",
    "#         for stack_id in test_group[1:]:\n",
    "#             stack = graph.stack_list[graph.id_to_idx[stack_id]]\n",
    "#             new_node = copy.deepcopy(stack)\n",
    "#             new_node.parents = set(new_node.parents) - graph.load_nodes\n",
    "#             subgraph_stack_list.append(new_node)\n",
    "\n",
    "\n",
    "#         new_graph = sg.StackedGraph(stack_list=subgraph_stack_list)\n",
    "#         # gv.adj_to_graph(new_graph.adj_matrix, save=False, layout = 'spectral')\n",
    "#         # gv.adj_to_graph(new_graph, save=False, layout = 'kk', title = f'Subgraph {i}')\n",
    "#         gv.adj_to_graph(new_graph, ax=axes[i], layout='kk', title=f'Subgraph {i+1}')\n",
    "\n",
    "\n",
    "# for j in range(i + 1, len(axes)):\n",
    "#     fig.delaxes(axes[j])\n",
    "\n",
    "\n",
    "# plt.tight_layout()\n",
    "# plt.show()\n"
   ]
  },
  {
   "cell_type": "markdown",
   "metadata": {},
   "source": [
    "# 2"
   ]
  },
  {
   "cell_type": "code",
   "execution_count": 41,
   "metadata": {},
   "outputs": [],
   "source": [
    "read_json_path = '/home/rjtomich/photonic_compiler/model_to_graph/gpt2_graph.json'\n",
    "# read_json_path = '/home/rjtomich/photonic_compiler/model_to_graph/bert-base-uncased_graph.json'\n",
    "# read_json_path = '/home/rjtomich/photonic_compiler/Pytorch-LeNet/simple_LeNet_graph.json'\n",
    "# read_json_path = '/home/rjtomich/photonic_compiler/Pytorch-LeNet/simple_LeNet_graph_NoFusion.json'\n",
    "with open(read_json_path)  as json_file:\n",
    "    raw_json = json.load(json_file) # returns json file as dict\n",
    "graph = sg.StackedGraph(raw_json=raw_json)\n"
   ]
  },
  {
   "cell_type": "code",
   "execution_count": 34,
   "metadata": {},
   "outputs": [],
   "source": [
    "def draw_subgraphs(graph, sub='all'):\n",
    "    subgraphs = list(dijk.graph_partition(graph))\n",
    "    dijk.select_nodes(graph, subgraphs)\n",
    "\n",
    "    if sub == 'all':\n",
    "        n_graphs = len(subgraphs)\n",
    "        n_cols = 6  # Number of columns for the grid\n",
    "        n_rows = (n_graphs + n_cols - 1) // n_cols  # Calculate the number of rows needed\n",
    "\n",
    "        fig, axes = plt.subplots(n_rows, n_cols, figsize=(n_cols * 3, n_rows * 3))\n",
    "        axes = axes.flatten()  # Flatten the array of axes\n",
    "\n",
    "        for i in range(len(subgraphs)):\n",
    "            gv.adj_to_graph(subgraphs[i], ax=axes[i], layout='spectral', title=f'Subgraph {i+1}')\n",
    "\n",
    "        for j in range(i + 1, len(axes)):\n",
    "            fig.delaxes(axes[j])\n",
    "\n",
    "    else:\n",
    "        fig, ax = plt.subplots(figsize=(6, 6))\n",
    "        gv.adj_to_graph(subgraphs[sub], ax=ax, layout='spectral', title=f'Subgraph {sub}')\n",
    "\n",
    "\n",
    "    plt.tight_layout()\n",
    "    plt.show()"
   ]
  },
  {
   "cell_type": "code",
   "execution_count": 35,
   "metadata": {},
   "outputs": [
    {
     "data": {
      "image/png": "[encoded data removed]",
      "text/plain": [
       "<Figure size 600x600 with 1 Axes>"
      ]
     },
     "metadata": {},
     "output_type": "display_data"
    }
   ],
   "source": [
    "# draw_subgraphs(graph)\n",
    "draw_subgraphs(graph, sub=0)"
   ]
  },
  {
   "cell_type": "code",
   "execution_count": 36,
   "metadata": {},
   "outputs": [
    {
     "ename": "AttributeError",
     "evalue": "'StackedGraph' object has no attribute 'schedule'",
     "output_type": "error",
     "traceback": [
      "\u001b[0;31m---------------------------------------------------------------------------\u001b[0m",
      "\u001b[0;31mAttributeError\u001b[0m                            Traceback (most recent call last)",
      "Cell \u001b[0;32mIn[36], line 1\u001b[0m\n\u001b[0;32m----> 1\u001b[0m new_order, new_layers_list \u001b[38;5;241m=\u001b[39m \u001b[43mgraph\u001b[49m\u001b[38;5;241;43m.\u001b[39;49m\u001b[43mschedule\u001b[49m()\n\u001b[1;32m      2\u001b[0m \u001b[38;5;66;03m# for i in new_layers_list:\u001b[39;00m\n\u001b[1;32m      3\u001b[0m \u001b[38;5;66;03m#     print(i-graph.load_nodes - graph.output_nodes)\u001b[39;00m\n",
      "\u001b[0;31mAttributeError\u001b[0m: 'StackedGraph' object has no attribute 'schedule'"
     ]
    }
   ],
   "source": [
    "new_order, new_layers_list = graph.schedule()\n",
    "# for i in new_layers_list:\n",
    "#     print(i-graph.load_nodes - graph.output_nodes)\n"
   ]
  },
  {
   "cell_type": "code",
   "execution_count": 37,
   "metadata": {},
   "outputs": [],
   "source": [
    "for i in range(19, 71):\n",
    "    node = graph.stack_list[graph.id_to_idx[i]]\n",
    "    # print(f'{i}: {node.cost_stack[node.func_selection]}')\n",
    "    for idx, j in enumerate(graph.adj_matrix[i]):\n",
    "        if j is not None:\n",
    "            # print(f'    {i}->{idx}: {j*10**8}')\n",
    "            pass\n"
   ]
  },
  {
   "cell_type": "markdown",
   "metadata": {},
   "source": [
    "# Timeline"
   ]
  },
  {
   "cell_type": "code",
   "execution_count": 50,
   "metadata": {},
   "outputs": [],
   "source": [
    "import pandas as pd"
   ]
  },
  {
   "cell_type": "code",
   "execution_count": 58,
   "metadata": {},
   "outputs": [
    {
     "name": "stdout",
     "output_type": "stream",
     "text": [
      "{'CPU': {'CPU1': 0, 'CPU2': 0}, 'PHU': {'PHU1': 0}}\n",
      "{'CPU': {'CPU1': 3.072e-05, 'CPU2': 3.072e-05}, 'PHU': {'PHU1': 3.072e-05}}\n",
      "{'CPU': {'CPU1': 6.243999999999999e-05, 'CPU2': 6.243999999999999e-05}, 'PHU': {'PHU1': 6.243999999999999e-05}}\n",
      "{'CPU': {'CPU1': 9.316124999999999e-05, 'CPU2': 9.316124999999999e-05}, 'PHU': {'PHU1': 9.316124999999999e-05}}\n",
      "{'CPU': {'CPU1': 0.00012484124999999997, 'CPU2': 0.00012484124999999997}, 'PHU': {'PHU1': 0.00012484124999999997}}\n",
      "{'CPU': {'CPU1': 0.00015656124999999997, 'CPU2': 0.00015656124999999997}, 'PHU': {'PHU1': 0.00015656124999999997}}\n",
      "{'CPU': {'CPU1': 0.00015660249999999997, 'CPU2': 0.00015660249999999997}, 'PHU': {'PHU1': 0.00015660249999999997}}\n",
      "{'CPU': {'CPU1': 0.00015664374999999997, 'CPU2': 0.00015664374999999997}, 'PHU': {'PHU1': 0.00015664374999999997}}\n",
      "{'CPU': {'CPU1': 0.00018736499999999997, 'CPU2': 0.00018736499999999997}, 'PHU': {'PHU1': 0.00018736499999999997}}\n",
      "{'CPU': {'CPU1': 0.00021904499999999996, 'CPU2': 0.00021904499999999996}, 'PHU': {'PHU1': 0.00021904499999999996}}\n",
      "{'CPU': {'CPU1': 0.00025072499999999993, 'CPU2': 0.00025072499999999993}, 'PHU': {'PHU1': 0.00025072499999999993}}\n",
      "{'CPU': {'CPU1': 0.0002516949999999999, 'CPU2': 0.0002516949999999999}, 'PHU': {'PHU1': 0.0002516949999999999}}\n",
      "{'CPU': {'CPU1': 0.0011982934, 'CPU2': 0.0011982934}, 'PHU': {'PHU1': 0.0011982934}}\n",
      "{'CPU': {'CPU1': 0.0013326934, 'CPU2': 0.0013326934}, 'PHU': {'PHU1': 0.0013326934}}\n",
      "{'CPU': {'CPU1': 0.0013365433999999999, 'CPU2': 0.0013365433999999999}, 'PHU': {'PHU1': 0.0013365433999999999}}\n",
      "{'CPU': {'CPU1': 0.0014632634, 'CPU2': 0.0013365433999999999}, 'PHU': {'PHU1': 0.0013365433999999999}}\n",
      "{'CPU': {'CPU1': 0.0014632634, 'CPU2': 0.0014632634}, 'PHU': {'PHU1': 0.0014632634}}\n",
      "{'CPU': {'CPU1': 0.0015899833999999998, 'CPU2': 0.0015899833999999998}, 'PHU': {'PHU1': 0.0015899833999999998}}\n",
      "{'CPU': {'CPU1': 0.0017167033999999997, 'CPU2': 0.0017167033999999997}, 'PHU': {'PHU1': 0.0017167033999999997}}\n",
      "{'CPU': {'CPU1': 0.0018434233999999996, 'CPU2': 0.0018434233999999996}, 'PHU': {'PHU1': 0.0018434233999999996}}\n",
      "{'CPU': {'CPU1': 0.0023387833999999994, 'CPU2': 0.0023387833999999994}, 'PHU': {'PHU1': 0.0023387833999999994}}\n",
      "{'CPU': {'CPU1': 0.0024655033999999992, 'CPU2': 0.0024655033999999992}, 'PHU': {'PHU1': 0.0024655033999999992}}\n",
      "{'CPU': {'CPU1': 0.002592223399999999, 'CPU2': 0.002592223399999999}, 'PHU': {'PHU1': 0.002592223399999999}}\n",
      "{'CPU': {'CPU1': 0.0025960733999999992, 'CPU2': 0.0025960733999999992}, 'PHU': {'PHU1': 0.0025960733999999992}}\n",
      "{'CPU': {'CPU1': 0.003551311799999999, 'CPU2': 0.003551311799999999}, 'PHU': {'PHU1': 0.003551311799999999}}\n",
      "{'CPU': {'CPU1': 0.003584911799999999, 'CPU2': 0.003584911799999999}, 'PHU': {'PHU1': 0.003584911799999999}}\n",
      "{'CPU': {'CPU1': 0.003585881799999999, 'CPU2': 0.003585881799999999}, 'PHU': {'PHU1': 0.003585881799999999}}\n"
     ]
    }
   ],
   "source": [
    "read_json_path = '/home/rjtomich/photonic_compiler/model_to_graph/gpt2_graph.json'\n",
    "# read_json_path = '/home/rjtomich/photonic_compiler/model_to_graph/bert-base-uncased_graph.json'\n",
    "# read_json_path = '/home/rjtomich/photonic_compiler/Pytorch-LeNet/simple_LeNet_graph.json'\n",
    "# read_json_path = '/home/rjtomich/photonic_compiler/Pytorch-LeNet/simple_LeNet_graph_NoFusion.json'\n",
    "with open(read_json_path)  as json_file:\n",
    "    raw_json = json.load(json_file) # returns json file as dict\n",
    "graph = sg.StackedGraph(raw_json=raw_json)\n",
    "\n",
    "subgraphs = list(dijk.graph_partition(graph))\n",
    "dijk.select_nodes(graph, subgraphs)\n",
    "dijk.scheduling_dijkstra(subgraphs[2])\n"
   ]
  },
  {
   "cell_type": "code",
   "execution_count": 69,
   "metadata": {},
   "outputs": [],
   "source": [
    "def make_schedule(graph):\n",
    "    data = {\n",
    "        'task': [],\n",
    "        'start': [],\n",
    "        'end': [],\n",
    "        'label': []  # Labels for the blocks\n",
    "    }\n",
    "\n",
    "\n",
    "    for stack in graph.stack_list[1:13]:\n",
    "        data['task'].append(stack.hardware_selection)\n",
    "        data['start'].append(stack.start_time)\n",
    "        data['end'].append(stack.start_time + stack.cost_stack[stack.func_selection])\n",
    "        data['label'].append(stack.oppid)\n",
    "\n",
    "\n",
    "\n",
    "    df = pd.DataFrame(data)\n",
    "    print(df)\n",
    "\n",
    "    unique_combinations = df[['task', 'label']].drop_duplicates()\n",
    "    colors = plt.cm.get_cmap('tab10', len(unique_combinations))\n",
    "\n",
    "    color_map = {}\n",
    "    for idx, (task, label) in enumerate(unique_combinations.itertuples(index=False)):\n",
    "        color_map[(task, label)] = colors(idx)\n",
    "\n",
    "\n",
    "    fig, ax = plt.subplots(figsize=(30, 5))\n",
    "\n",
    "    # Iterate over each row in the dataframe and plot a horizontal line\n",
    "    for index, row in df.iterrows():\n",
    "        task_label = (row['task'], row['label'])\n",
    "        task_color = color_map[task_label]\n",
    "        ax.hlines(y=row['task'], xmin=row['start'], xmax=row['end'], color=task_color, linewidth=100)\n",
    "\n",
    "        # Adding label on the bar\n",
    "        label_text = f\"Label: {row['label']}\"\n",
    "        ax.text((row['start'] + row['end']) / 2, row['task'], label_text, color='black', ha='center', va='center')\n",
    "\n",
    "    # Customize the plot\n",
    "    ax.set_xlabel('Time')\n",
    "    ax.set_ylabel('Task')\n",
    "    ax.set_title('Task Schedule')\n",
    "    ax.grid(True)\n",
    "    ax.legend()\n",
    "\n",
    "    # plt.tight_layout()\n",
    "    plt.show()\n"
   ]
  },
  {
   "cell_type": "code",
   "execution_count": 70,
   "metadata": {},
   "outputs": [
    {
     "name": "stderr",
     "output_type": "stream",
     "text": [
      "/tmp/ipykernel_3269242/2876440807.py:22: MatplotlibDeprecationWarning: The get_cmap function was deprecated in Matplotlib 3.7 and will be removed two minor releases later. Use ``matplotlib.colormaps[name]`` or ``matplotlib.colormaps.get_cmap(obj)`` instead.\n",
      "  colors = plt.cm.get_cmap('tab10', len(unique_combinations))\n",
      "No artists with labels found to put in legend.  Note that artists whose label start with an underscore are ignored when legend() is called with no argument.\n"
     ]
    },
    {
     "name": "stdout",
     "output_type": "stream",
     "text": [
      "    task     start       end  label\n",
      "0   CPU1  0.000000  0.000031     71\n",
      "1   CPU1  0.000031  0.000061     72\n",
      "2   CPU1  0.000062  0.000093     73\n",
      "3   CPU1  0.000093  0.000124     75\n",
      "4   CPU1  0.000125  0.000156     76\n",
      "5   CPU1  0.000157  0.000157     78\n",
      "6   CPU1  0.000157  0.000157     79\n",
      "7   CPU1  0.000157  0.000187     80\n",
      "8   CPU1  0.000187  0.000218     82\n",
      "9   CPU1  0.000219  0.000250     84\n",
      "10  CPU1  0.000251  0.000251     85\n",
      "11  PHU1  0.000252  0.001195     87\n"
     ]
    },
    {
     "data": {
      "image/png": "[encoded data removed]",
      "text/plain": [
       "<Figure size 3000x500 with 1 Axes>"
      ]
     },
     "metadata": {},
     "output_type": "display_data"
    }
   ],
   "source": [
    "make_schedule(subgraphs[2])"
   ]
  },
  {
   "cell_type": "code",
   "execution_count": null,
   "metadata": {},
   "outputs": [],
   "source": []
  }
 ],
 "metadata": {
  "kernelspec": {
   "display_name": "Python 3",
   "language": "python",
   "name": "python3"
  },
  "language_info": {
   "codemirror_mode": {
    "name": "ipython",
    "version": 3
   },
   "file_extension": ".py",
   "mimetype": "text/x-python",
   "name": "python",
   "nbconvert_exporter": "python",
   "pygments_lexer": "ipython3",
   "version": "3.8.10"
  }
 },
 "nbformat": 4,
 "nbformat_minor": 2
}
