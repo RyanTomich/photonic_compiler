{
 "cells": [
  {
   "cell_type": "code",
   "execution_count": 118,
   "metadata": {},
   "outputs": [],
   "source": [
    "import numpy as np\n",
    "import math\n",
    "import sys\n",
    "import pickle\n"
   ]
  },
  {
   "cell_type": "markdown",
   "metadata": {},
   "source": [
    "## make your own model\n",
    "and save it"
   ]
  },
  {
   "cell_type": "code",
   "execution_count": 119,
   "metadata": {},
   "outputs": [],
   "source": [
    "import torch\n",
    "import torch.nn as nn\n",
    "import torch.nn.functional as F\n",
    "import torchvision.transforms as transforms\n",
    "# Creat and save the model\n",
    "class LeNet(nn.Module):\n",
    "    # initial instances creates random weights by default\n",
    "    def __init__(self):\n",
    "        super(LeNet, self).__init__()\n",
    "        linear = nn.Linear\n",
    "        self.fc1 = linear(784, 300, bias=False)\n",
    "        self.fc2 = linear(300, 100, bias=False)\n",
    "        self.fc3 = linear(100, 10, bias=False)\n",
    "\n",
    "    def forward(self, x):\n",
    "        x = x.view(-1, 784)\n",
    "        x = F.relu(self.fc1(x))\n",
    "        x = F.relu(self.fc2(x))\n",
    "        x = F.log_softmax(self.fc3(x), dim=1)\n",
    "        return x\n",
    "\n",
    "# device = torch.device(\"cuda\" if torch.cuda.is_available() else \"cpu\")\n",
    "device = torch.device(\"cpu\")\n",
    "model = LeNet().to(device=device)\n",
    "model.eval()\n",
    "torch.save(model, 'LeNet.pt')\n"
   ]
  },
  {
   "cell_type": "code",
   "execution_count": 120,
   "metadata": {},
   "outputs": [],
   "source": [
    "# Load model and paramaters\n",
    "\n",
    "# # The weights from the modle created above are random.\n",
    "# lenet = torch.load('LeNet.pt')\n",
    "# state_dict = lenet.state_dict()\n",
    "# fc1_weight = state_dict['fc1.weight'].cpu().numpy()\n",
    "# fc2_weight = state_dict['fc2.weight'].cpu().numpy()\n",
    "# fc3_weight = state_dict['fc3.weight'].cpu().numpy()"
   ]
  },
  {
   "cell_type": "markdown",
   "metadata": {},
   "source": [
    "## Use pretrained weights and no ML imports\n",
    "With the exception of tensorflow to get the mnist images"
   ]
  },
  {
   "cell_type": "code",
   "execution_count": 121,
   "metadata": {},
   "outputs": [],
   "source": [
    "def flatten(img):\n",
    "    ans = []\n",
    "    for row in img:\n",
    "        ans.extend(row)\n",
    "    return np.array(ans)\n",
    "\n",
    "def normalize(im_flat, mean, sdv):\n",
    "    return np.array( [(pixle-mean)/sdv for pixle in im_flat] )\n",
    "\n",
    "def log_softmax(vec):\n",
    "    max_val = np.max(vec)\n",
    "    exp = np.exp(vec - max_val)\n",
    "    log_sum_exp = np.log(np.sum(exp))\n",
    "    return vec - max_val - log_sum_exp\n"
   ]
  },
  {
   "cell_type": "code",
   "execution_count": 122,
   "metadata": {},
   "outputs": [
    {
     "name": "stdout",
     "output_type": "stream",
     "text": [
      "(300, 784)\n",
      "(100, 300)\n",
      "(10, 100)\n"
     ]
    }
   ],
   "source": [
    "\n",
    "# Pretrained model from lightning [https://github.com/open-photonics/lightning/tree/8f0804d07d26e58b2855bbc25a3283fd338c1b4e]\n",
    "fc1_weight = pickle.load(open(\"/home/rjtomich/photonic_compiler/inference_pratice/LeNet_weights/fc_1.p\", \"rb\"))\n",
    "fc2_weight = pickle.load(open(\"/home/rjtomich/photonic_compiler/inference_pratice/LeNet_weights/fc_2.p\", \"rb\"))\n",
    "fc3_weight = pickle.load(open(\"/home/rjtomich/photonic_compiler/inference_pratice/LeNet_weights/fc_3.p\", \"rb\"))\n",
    "\n",
    "print(fc1_weight.shape)\n",
    "print(fc2_weight.shape)\n",
    "print(fc3_weight.shape)\n"
   ]
  },
  {
   "cell_type": "code",
   "execution_count": 123,
   "metadata": {},
   "outputs": [],
   "source": [
    "# get a test image\n",
    "import tensorflow as tf\n",
    "from tensorflow.keras.datasets import mnist\n",
    "import matplotlib.pyplot as plt\n",
    "\n",
    "(x_train, y_train), (x_test, y_test) = mnist.load_data()\n",
    "\n",
    "def random_img():\n",
    "    image_index = np.random.randint(0, x_test.shape[0])\n",
    "    image = x_test[image_index]\n",
    "    label = y_test[image_index]\n",
    "\n",
    "    # plt.imshow(image)\n",
    "    # plt.title('Label: {}'.format(label))\n",
    "    # plt.show()\n",
    "\n",
    "    # flatten and normallization\n",
    "    transform = transforms.Compose([\n",
    "        transforms.ToTensor(),\n",
    "        transforms.Normalize((0.1307,), (0.3081,)) ])\n",
    "\n",
    "    img_tr = transform(image)\n",
    "    img_flat = torch.flatten(img_tr)\n",
    "    img_np = np.array(img_flat)\n",
    "    return img_np, label\n",
    "\n",
    "def my_random_img():\n",
    "    image_index = np.random.randint(0, x_test.shape[0])\n",
    "    image = x_test[image_index]\n",
    "    label = y_test[image_index]\n",
    "\n",
    "    # plt.imshow(image)\n",
    "    # plt.title('Label: {}'.format(label))\n",
    "    # plt.show()\n",
    "\n",
    "    # flatten and normallization\n",
    "    mean = 0.1307\n",
    "    sdv = 0.3081\n",
    "    im_flat = flatten(image)\n",
    "    im_np = normalize(im_flat, mean, sdv)\n",
    "    return im_np, label"
   ]
  },
  {
   "cell_type": "code",
   "execution_count": 124,
   "metadata": {},
   "outputs": [],
   "source": [
    "def my_inference(img_np):\n",
    "    l1 = img_np @ fc1_weight.T\n",
    "    relu_l1 = np.maximum(0, l1) # clips negitives to 0\n",
    "\n",
    "    l2 = relu_l1 @ fc2_weight.T\n",
    "    relu_l2 = np.maximum(0, l2)\n",
    "\n",
    "    l3 = relu_l2 @ fc3_weight.T\n",
    "\n",
    "    soft_relu_l3 = log_softmax(l3)\n",
    "\n",
    "    probs = np.exp(soft_relu_l3)\n",
    "    sum_probs = np.sum(probs)\n",
    "    return(np.argmax(probs))\n"
   ]
  },
  {
   "cell_type": "code",
   "execution_count": 132,
   "metadata": {},
   "outputs": [
    {
     "name": "stdout",
     "output_type": "stream",
     "text": [
      "957 / 1000\n",
      "accuracy 0.957\n"
     ]
    }
   ],
   "source": [
    "right = 0\n",
    "wrong = 0\n",
    "for _ in range(1000):\n",
    "    img, label = my_random_img()\n",
    "    if my_inference(img) == label:\n",
    "        right +=1\n",
    "    else:\n",
    "        wrong += 1\n",
    "\n",
    "print(f'{right} / {wrong+right}')\n",
    "print(f'accuracy {right/(wrong + right)}')"
   ]
  }
 ],
 "metadata": {
  "kernelspec": {
   "display_name": "Python 3 (ipykernel)",
   "language": "python",
   "name": "python3"
  },
  "language_info": {
   "codemirror_mode": {
    "name": "ipython",
    "version": 3
   },
   "file_extension": ".py",
   "mimetype": "text/x-python",
   "name": "python",
   "nbconvert_exporter": "python",
   "pygments_lexer": "ipython3",
   "version": "3.8.10"
  }
 },
 "nbformat": 4,
 "nbformat_minor": 2
}
