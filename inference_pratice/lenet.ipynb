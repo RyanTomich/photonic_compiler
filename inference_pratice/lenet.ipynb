{
 "cells": [
  {
   "cell_type": "code",
   "execution_count": 150,
   "metadata": {},
   "outputs": [],
   "source": [
    "import torch\n",
    "import torch.nn as nn\n",
    "import torch.nn.functional as F\n",
    "import numpy as np\n",
    "import math\n",
    "import sys"
   ]
  },
  {
   "cell_type": "code",
   "execution_count": 151,
   "metadata": {},
   "outputs": [],
   "source": [
    "class LeNet(nn.Module):\n",
    "    def __init__(self):\n",
    "        super(LeNet, self).__init__()\n",
    "        linear = nn.Linear\n",
    "        self.fc1 = linear(784, 300, bias=False)\n",
    "        self.fc2 = linear(300, 100, bias=False)\n",
    "        self.fc3 = linear(100, 10, bias=False)\n",
    "\n",
    "    def forward(self, x):\n",
    "        x = x.view(-1, 784)\n",
    "        x = F.relu(self.fc1(x))\n",
    "        x = F.relu(self.fc2(x))\n",
    "        x = F.log_softmax(self.fc3(x), dim=1)\n",
    "        return x\n",
    "\n",
    "# device = torch.device(\"cuda\" if torch.cuda.is_available() else \"cpu\")\n",
    "device = torch.device(\"cpu\")\n",
    "model = LeNet().to(device=device)\n",
    "model.eval()\n",
    "torch.save(model, 'LeNet.pt')\n"
   ]
  },
  {
   "cell_type": "code",
   "execution_count": 152,
   "metadata": {},
   "outputs": [],
   "source": [
    "# Load model with paramaters\n",
    "lenet = torch.load('LeNet.pt')\n",
    "state_dict = lenet.state_dict()\n",
    "# fc1_weight = np.array(state_dict['fc1.weight'])\n",
    "# fc2_weight = np.array(state_dict['fc2.weight'])\n",
    "# fc3_weight = np.array(state_dict['fc3.weight'])\n",
    "\n",
    "fc1_weight = state_dict['fc1.weight'].cpu().numpy()\n",
    "fc2_weight = state_dict['fc2.weight'].cpu().numpy()\n",
    "fc3_weight = state_dict['fc3.weight'].cpu().numpy()\n"
   ]
  },
  {
   "cell_type": "code",
   "execution_count": 153,
   "metadata": {},
   "outputs": [],
   "source": [
    "def log_softmax(vec):\n",
    "    max_val = np.max(vec)\n",
    "    exp = np.exp(vec - max_val)\n",
    "    log_sum_exp = np.log(np.sum(exp))\n",
    "    return vec - max_val - log_sum_exp\n",
    "\n",
    "def normalize_array(vec):\n",
    "    total = sum(vec)\n",
    "    return np.apply_along_axis(lambda x: x/ total, axis=0, arr = vec)\n"
   ]
  },
  {
   "cell_type": "code",
   "execution_count": 163,
   "metadata": {},
   "outputs": [
    {
     "data": {
      "image/png": "[encoded data removed]",
      "text/plain": [
       "<Figure size 640x480 with 1 Axes>"
      ]
     },
     "metadata": {},
     "output_type": "display_data"
    },
    {
     "name": "stdout",
     "output_type": "stream",
     "text": [
      "0.9999999999999997\n"
     ]
    }
   ],
   "source": [
    "# get a test image\n",
    "import tensorflow as tf\n",
    "from tensorflow.keras.datasets import mnist\n",
    "import matplotlib.pyplot as plt\n",
    "\n",
    "\n",
    "(x_train, y_train), (x_test, y_test) = mnist.load_data()\n",
    "\n",
    "image_index = np.random.randint(0, x_train.shape[0])\n",
    "image = x_train[image_index]\n",
    "label = y_train[image_index]\n",
    "plt.imshow(image, cmap='gray')\n",
    "plt.title('Label: {}'.format(label))\n",
    "plt.show()\n",
    "\n",
    "flat_img = image.flatten()\n",
    "# print(flat_img)\n",
    "norm_flat_img = normalize_array(flat_img)\n",
    "print(sum(norm_flat_img))\n"
   ]
  },
  {
   "cell_type": "code",
   "execution_count": 164,
   "metadata": {},
   "outputs": [
    {
     "name": "stdout",
     "output_type": "stream",
     "text": [
      "[0.09998903 0.0999482  0.10001973 0.09997584 0.0999784  0.10000434\n",
      " 0.10004741 0.10002966 0.09999975 0.10000765]\n",
      "1.0000000000000002\n",
      "6\n"
     ]
    }
   ],
   "source": [
    "l1 = norm_flat_img @ fc1_weight.T\n",
    "relu_l1 = np.maximum(0, l1)\n",
    "\n",
    "l2 = relu_l1 @ fc2_weight.T\n",
    "relu_l2 = np.maximum(0, l2)\n",
    "\n",
    "l3 = relu_l2 @ fc3_weight.T\n",
    "\n",
    "soft_relu_l3 = log_softmax(l3)\n",
    "\n",
    "probs = np.exp(soft_relu_l3)\n",
    "sum_probs = np.sum(probs)\n",
    "print(probs)\n",
    "print(sum_probs)\n",
    "\n",
    "print(np.argmax(probs))\n"
   ]
  }
 ],
 "metadata": {
  "kernelspec": {
   "display_name": "Python 3 (ipykernel)",
   "language": "python",
   "name": "python3"
  },
  "language_info": {
   "codemirror_mode": {
    "name": "ipython",
    "version": 3
   },
   "file_extension": ".py",
   "mimetype": "text/x-python",
   "name": "python",
   "nbconvert_exporter": "python",
   "pygments_lexer": "ipython3",
   "version": "3.8.10"
  }
 },
 "nbformat": 4,
 "nbformat_minor": 2
}
