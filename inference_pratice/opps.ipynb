{
 "cells": [
  {
   "cell_type": "code",
   "execution_count": 2,
   "metadata": {},
   "outputs": [
    {
     "name": "stdout",
     "output_type": "stream",
     "text": [
      "True\n"
     ]
    }
   ],
   "source": [
    "import numpy as np\n",
    "total = [0]\n",
    "def my_matmult(m1, m2):\n",
    "    ans_mat = np.empty((0,m2.shape[1]))\n",
    "    for row in m1:\n",
    "        ans_row = np.array([])\n",
    "        for col in m2.T:\n",
    "            ans_row = np.append(ans_row, np.dot(row, col))\n",
    "            total[0] += len(row)*2\n",
    "        ans_mat = np.vstack((ans_mat,ans_row))\n",
    "    return ans_mat\n",
    "\n",
    "a = np.random.rand(3, 2)\n",
    "b = np.random.rand(2, 3)\n",
    "\n",
    "print(np.array_equal(a@b, my_matmult(a,b)))\n"
   ]
  },
  {
   "cell_type": "code",
   "execution_count": 3,
   "metadata": {},
   "outputs": [
    {
     "name": "stdout",
     "output_type": "stream",
     "text": [
      "True\n"
     ]
    }
   ],
   "source": [
    "def tensor_product(m1, m2):\n",
    "  ans = np.empty( (0, m1.shape[-2], m2.shape[-1]) )\n",
    "  for i in range(m1.shape[0]):\n",
    "    matmult = np.expand_dims(my_matmult(m1[i], m2[i]), axis=0)\n",
    "    ans = np.vstack((ans, matmult))\n",
    "  return ans\n",
    "\n",
    "a = np.random.rand(2, 3, 4)\n",
    "b = np.random.rand(2, 4, 2)\n",
    "\n",
    "print(np.allclose(tensor_product(a,b), a @ b))\n"
   ]
  },
  {
   "cell_type": "code",
   "execution_count": 4,
   "metadata": {},
   "outputs": [
    {
     "name": "stdout",
     "output_type": "stream",
     "text": [
      "True\n",
      "[24576]\n"
     ]
    }
   ],
   "source": [
    "def nd_tensor_product(m1, m2):\n",
    "  ans_shape = m1.shape[:-2] + (m1.shape[-2], m2.shape[-1])\n",
    "  ans = np.empty(ans_shape)\n",
    "  for i in range(m1.shape[0]):\n",
    "    if len(m1.shape) == 3:\n",
    "        ans[i] = my_matmult(m1[i], m2[i])\n",
    "\n",
    "    else:\n",
    "        ans[i] = nd_tensor_product(m1[i], m2[i])\n",
    "  return ans\n",
    "\n",
    "a = np.random.rand(12, 4, 64)\n",
    "b = np.random.rand(12, 64, 4)\n",
    "\n",
    "total = [0]\n",
    "\n",
    "print(np.allclose(nd_tensor_product(a,b), a @ b))\n",
    "print(total)"
   ]
  },
  {
   "cell_type": "code",
   "execution_count": 6,
   "metadata": {},
   "outputs": [],
   "source": [
    "import numpy as np\n",
    "import bitsandbytes as bab"
   ]
  },
  {
   "cell_type": "code",
   "execution_count": 45,
   "metadata": {},
   "outputs": [
    {
     "name": "stdout",
     "output_type": "stream",
     "text": [
      "[[ 4020.00319733 -3706.6212591  -3945.95986582 -3252.21860792\n",
      "  -2563.24475527]\n",
      " [ 1547.20884967 -1903.16517331  -927.47129922   227.01519137\n",
      "   -166.82658161]]\n"
     ]
    },
    {
     "data": {
      "text/plain": [
       "array([[ 4020.00319268, -3706.62125742, -3945.9598619 , -3252.21860723,\n",
       "        -2563.24475125],\n",
       "       [ 1547.20884692, -1903.1651711 ,  -927.47129741,   227.01519176,\n",
       "         -166.82658021]])"
      ]
     },
     "execution_count": 45,
     "metadata": {},
     "output_type": "execute_result"
    }
   ],
   "source": [
    "out = bnb.matmul(x, self.weight, bias=self.bias, state=self.state)\n",
    "\n",
    "\n",
    "def my_matmul(m1, m2):\n",
    "    m1_const = 2147483643/np.max(abs(m1))  #Squrt(127) is 11...\n",
    "    m2_const = 2147483643/np.max(abs(m2))\n",
    "\n",
    "    m1 = (m1 * m1_const).astype(np.int64)\n",
    "    m2 = (m2* m2_const).astype(np.int64)\n",
    "\n",
    "    # assert np.all((m1 >= -128) & (m1 <= 127))\n",
    "    # assert np.all((m2 >= -128) & (m2 <= 127))\n",
    "\n",
    "    ans = np.matmul(m1,m2)\n",
    "\n",
    "    ans = (ans.astype(np.float64))/ (m1_const * m2_const)\n",
    "    # ans = (ans / (m1_const * m2_const)).astype(np.float64)\n",
    "    return ans\n",
    "\n",
    "def nd_tensor_product(m1, m2):\n",
    "    ans_shape = m1.shape[:-2] + (m1.shape[-2], m2.shape[-1])\n",
    "    ans = np.empty(ans_shape)\n",
    "    if len(ans_shape) < 3:\n",
    "        return my_matmul(m1, m2)\n",
    "    else:\n",
    "        for i in range(ans_shape[0]):\n",
    "            ans[i] = nd_tensor_product(m1[i], m2[i])\n",
    "    return ans\n",
    "\n",
    "\n",
    "\n",
    "# a = np.random.rand(4, 64)\n",
    "# b = np.random.rand(64, 100)\n",
    "# assert nd_tensor_product(a, b).shape == (4, 100)\n",
    "\n",
    "# a = np.random.rand(12, 4, 64)\n",
    "# b = np.random.rand(12, 64, 4)\n",
    "# assert nd_tensor_product(a, b).shape == (12, 4, 4)\n",
    "\n",
    "# a = np.random.rand(3, 12, 4, 64)\n",
    "# b = np.random.rand(3, 12, 64, 4)\n",
    "# assert nd_tensor_product(a, b).shape == (3,12, 4, 4)\n",
    "\n",
    "# a = np.random.uniform(-100, 100, size=(2, 3))\n",
    "# b = np.random.uniform(-100, 100, size=(3, 5))\n",
    "\n",
    "a = np.array([[-30.03552628, -24.14292181, -58.09856082],\n",
    " [ 17.01992107, -16.35411441, -12.4997732 ]])\n",
    "\n",
    "b = np.array([[ -4.27223891, -52.65948653,  10.15256336,  86.74645725,  41.73872511],\n",
    " [-70.12971761, -11.72562159,  28.39736422,  99.48703335,  53.35739328],\n",
    " [-37.84169407,  95.895102,    50.8691936,  -30.21012106,   0.36828462]])\n",
    "\n",
    "# print(a)\n",
    "# print(b)\n",
    "print(np.matmul(a,b))\n",
    "my_matmul(a,b)\n",
    "# nd_tensor_product(a,b)\n"
   ]
  },
  {
   "cell_type": "code",
   "execution_count": null,
   "metadata": {},
   "outputs": [],
   "source": []
  }
 ],
 "metadata": {
  "kernelspec": {
   "display_name": "Python 3",
   "language": "python",
   "name": "python3"
  },
  "language_info": {
   "codemirror_mode": {
    "name": "ipython",
    "version": 3
   },
   "file_extension": ".py",
   "mimetype": "text/x-python",
   "name": "python",
   "nbconvert_exporter": "python",
   "pygments_lexer": "ipython3",
   "version": "3.8.10"
  }
 },
 "nbformat": 4,
 "nbformat_minor": 2
}
