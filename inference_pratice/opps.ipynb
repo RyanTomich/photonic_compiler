{
 "cells": [
  {
   "cell_type": "code",
   "execution_count": 2,
   "metadata": {},
   "outputs": [
    {
     "name": "stdout",
     "output_type": "stream",
     "text": [
      "True\n"
     ]
    }
   ],
   "source": [
    "import numpy as np\n",
    "total = [0]\n",
    "def my_matmult(m1, m2):\n",
    "    ans_mat = np.empty((0,m2.shape[1]))\n",
    "    for row in m1:\n",
    "        ans_row = np.array([])\n",
    "        for col in m2.T:\n",
    "            ans_row = np.append(ans_row, np.dot(row, col))\n",
    "            total[0] += len(row)*2\n",
    "        ans_mat = np.vstack((ans_mat,ans_row))\n",
    "    return ans_mat\n",
    "\n",
    "a = np.random.rand(3, 2)\n",
    "b = np.random.rand(2, 3)\n",
    "\n",
    "print(np.array_equal(a@b, my_matmult(a,b)))\n"
   ]
  },
  {
   "cell_type": "code",
   "execution_count": 3,
   "metadata": {},
   "outputs": [
    {
     "name": "stdout",
     "output_type": "stream",
     "text": [
      "True\n"
     ]
    }
   ],
   "source": [
    "def tensor_product(m1, m2):\n",
    "  ans = np.empty( (0, m1.shape[-2], m2.shape[-1]) )\n",
    "  for i in range(m1.shape[0]):\n",
    "    matmult = np.expand_dims(my_matmult(m1[i], m2[i]), axis=0)\n",
    "    ans = np.vstack((ans, matmult))\n",
    "  return ans\n",
    "\n",
    "a = np.random.rand(2, 3, 4)\n",
    "b = np.random.rand(2, 4, 2)\n",
    "\n",
    "print(np.allclose(tensor_product(a,b), a @ b))\n"
   ]
  },
  {
   "cell_type": "code",
   "execution_count": 4,
   "metadata": {},
   "outputs": [
    {
     "name": "stdout",
     "output_type": "stream",
     "text": [
      "True\n",
      "[24576]\n"
     ]
    }
   ],
   "source": [
    "def nd_tensor_product(m1, m2):\n",
    "  ans_shape = m1.shape[:-2] + (m1.shape[-2], m2.shape[-1])\n",
    "  ans = np.empty(ans_shape)\n",
    "  for i in range(m1.shape[0]):\n",
    "    if len(m1.shape) == 3:\n",
    "        ans[i] = my_matmult(m1[i], m2[i])\n",
    "\n",
    "    else:\n",
    "        ans[i] = nd_tensor_product(m1[i], m2[i])\n",
    "  return ans\n",
    "\n",
    "a = np.random.rand(12, 4, 64)\n",
    "b = np.random.rand(12, 64, 4)\n",
    "\n",
    "total = [0]\n",
    "\n",
    "print(np.allclose(nd_tensor_product(a,b), a @ b))\n",
    "print(total)"
   ]
  },
  {
   "cell_type": "code",
   "execution_count": 2,
   "metadata": {},
   "outputs": [],
   "source": [
    "import numpy as np"
   ]
  },
  {
   "cell_type": "code",
   "execution_count": 18,
   "metadata": {},
   "outputs": [],
   "source": [
    "def absmax_quantization(m1, type=np.int8):\n",
    "    matrix = np.empty((0, m1.shape[-1]))\n",
    "    row_constants = []\n",
    "    data_max = np.iinfo(type).max\n",
    "    for row in m1:\n",
    "        norm_range = round((data_max/2)**(1/2))\n",
    "\n",
    "        row_constant = norm_range/np.max(abs(row))\n",
    "        tow_type = (row * row_constant).astype(type)\n",
    "        matrix.vstack(tow_type)\n",
    "        row_constants += row_constant\n",
    "    return matrix, row_constants\n",
    "\n",
    "# def zeropoint_quantization(m1, type=np.int8):\n",
    "#     return (m1 * 2* np.iinfo(type).max)/ (max(m1) - min(m1))\n"
   ]
  },
  {
   "cell_type": "code",
   "execution_count": 25,
   "metadata": {},
   "outputs": [],
   "source": [
    "def matix_absmax_quantization(m1, type=np.int8):\n",
    "    data_max = np.iinfo(type).max\n",
    "    norm_range = round((data_max/2)**(1/2))\n",
    "\n",
    "    quantification_constant = norm_range/np.max(abs(m1))\n",
    "    tow_type = (m1 * quantification_constant).astype(type)\n",
    "    return tow_type, quantification_constant"
   ]
  },
  {
   "cell_type": "code",
   "execution_count": 26,
   "metadata": {},
   "outputs": [
    {
     "name": "stdout",
     "output_type": "stream",
     "text": [
      "[[  224.97050426  6879.94932527 12458.00860865  1289.62296289\n",
      "  -6600.2008004 ]\n",
      " [-1802.48000164  5809.90714037 13136.94936619 -3306.20671234\n",
      "  -4287.85140144]]\n"
     ]
    },
    {
     "data": {
      "text/plain": [
       "array([[   224.97050576,   6879.94932521,  12458.00860189,\n",
       "          1289.62296178,  -6600.2007987 ],\n",
       "       [ -1802.4800004 ,   5809.90713925, -11932.71954306,\n",
       "         -3306.20671205,  -4287.85140358]])"
      ]
     },
     "execution_count": 26,
     "metadata": {},
     "output_type": "execute_result"
    }
   ],
   "source": [
    "\n",
    "\n",
    "def my_matmul(m1, m2):\n",
    "    m1, m1_const = matix_absmax_quantization(m1, np.int64)\n",
    "    m2, m2_const = matix_absmax_quantization(m2, np.int64)\n",
    "\n",
    "    ans = np.matmul(m1,m2)\n",
    "\n",
    "    ans = (ans.astype(np.float64))/ (m1_const * m2_const)\n",
    "    return ans\n",
    "\n",
    "def nd_tensor_product(m1, m2):\n",
    "    ans_shape = m1.shape[:-2] + (m1.shape[-2], m2.shape[-1])\n",
    "    ans = np.empty(ans_shape)\n",
    "    if len(ans_shape) < 3:\n",
    "        return my_matmul(m1, m2)\n",
    "    else:\n",
    "        for i in range(ans_shape[0]):\n",
    "            ans[i] = nd_tensor_product(m1[i], m2[i])\n",
    "    return ans\n",
    "\n",
    "a = np.random.uniform(-100, 100, size=(2, 3))\n",
    "b = np.random.uniform(-100, 100, size=(3, 5))\n",
    "\n",
    "\n",
    "print(np.matmul(a,b))\n",
    "nd_tensor_product(a,b)\n"
   ]
  },
  {
   "cell_type": "code",
   "execution_count": null,
   "metadata": {},
   "outputs": [],
   "source": []
  }
 ],
 "metadata": {
  "kernelspec": {
   "display_name": "Python 3",
   "language": "python",
   "name": "python3"
  },
  "language_info": {
   "codemirror_mode": {
    "name": "ipython",
    "version": 3
   },
   "file_extension": ".py",
   "mimetype": "text/x-python",
   "name": "python",
   "nbconvert_exporter": "python",
   "pygments_lexer": "ipython3",
   "version": "3.8.10"
  }
 },
 "nbformat": 4,
 "nbformat_minor": 2
}
