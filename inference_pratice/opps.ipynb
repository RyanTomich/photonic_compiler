{
 "cells": [
  {
   "cell_type": "code",
   "execution_count": 8,
   "metadata": {},
   "outputs": [],
   "source": [
    "import numpy as np\n",
    "\n",
    "def my_matmult(m1, m2):\n",
    "    ans_mat = np.empty((0,m2.shape[1]))\n",
    "    for row in m1:\n",
    "        ans_row = np.array([])\n",
    "        for col in m2.T:\n",
    "            ans_row = np.append(ans_row, np.dot(row, col))\n",
    "        ans_mat = np.vstack((ans_mat,ans_row))\n",
    "    return ans_mat\n",
    "\n",
    "a = np.array([[1,2],\n",
    "              [3,4],\n",
    "              [5,6]]) #3x2\n",
    "\n",
    "b = np.array([[7,8,9],\n",
    "              [10,11,12]]) #2x3\n",
    "\n",
    "\n",
    "\n",
    "assert np.array_equal(a@b, my_matmult(a,b)) #matrix product\n",
    "assert np.array_equal(b@a, my_matmult(b,a))\n"
   ]
  },
  {
   "cell_type": "code",
   "execution_count": 35,
   "metadata": {},
   "outputs": [
    {
     "name": "stdout",
     "output_type": "stream",
     "text": [
      "(3, 0)\n",
      "[[ 1.  2.  3. 11. 12. 13. 21. 22. 23.]\n",
      " [ 4.  5.  6. 14. 15. 16. 24. 25. 26.]\n",
      " [ 7.  8.  9. 17. 18. 19. 27. 28. 29.]]\n"
     ]
    }
   ],
   "source": [
    "def matrization(T): # 3d\n",
    "    m = np.empty((T.shape[0],0))\n",
    "    print(m.shape)\n",
    "    for slice in T:\n",
    "        m = np.hstack((m, slice))\n",
    "    return m\n",
    "\n",
    "\n",
    "\n",
    "\n",
    "def tenmult(m1, m2):\n",
    "    m1_flat = matrization(m1)\n",
    "    m2_flat = matrization(m2)\n",
    "\n",
    "\n",
    "A = np.array([\n",
    "  [[1,2,3],    [4,5,6],    [7,8,9]],\n",
    "  [[11,12,13], [14,15,16], [17,18,19]],\n",
    "  [[21,22,23], [24,25,26], [27,28,29]],\n",
    "  ]) # [3,3,3]\n",
    "B = np.array([\n",
    "  [[1,2,3],    [4,5,6],    [7,8,9]],\n",
    "  [[11,12,13], [14,15,16], [17,18,19]],\n",
    "  [[21,22,23], [24,25,26], [27,28,29]],\n",
    "  ]) # [3,3,3]\n",
    "\n",
    "# C = A @ B # [3,3,3]\n",
    "# C = np.tensordot(A, B) # [3,3]\n",
    "# C = np.matmul(A,B) # [3,3]\n",
    "# print(C)\n",
    "print(matrization(A))"
   ]
  },
  {
   "cell_type": "code",
   "execution_count": 33,
   "metadata": {},
   "outputs": [
    {
     "name": "stdout",
     "output_type": "stream",
     "text": [
      "tf.Tensor(\n",
      "[[[  30   36   42]\n",
      "  [  66   81   96]\n",
      "  [ 102  126  150]]\n",
      "\n",
      " [[ 510  546  582]\n",
      "  [ 636  681  726]\n",
      "  [ 762  816  870]]\n",
      "\n",
      " [[1590 1656 1722]\n",
      "  [1806 1881 1956]\n",
      "  [2022 2106 2190]]], shape=(3, 3, 3), dtype=int32)\n"
     ]
    }
   ],
   "source": [
    "import tensorflow as tf\n",
    "\n",
    "A = tf.constant([\n",
    "  [[1,2,3],    [4,5,6],    [7,8,9]],\n",
    "  [[11,12,13], [14,15,16], [17,18,19]],\n",
    "  [[21,22,23], [24,25,26], [27,28,29]],\n",
    "  ]) # [3,3,3]\n",
    "B = tf.constant([\n",
    "  [[1,2,3],    [4,5,6],    [7,8,9]],\n",
    "  [[11,12,13], [14,15,16], [17,18,19]],\n",
    "  [[21,22,23], [24,25,26], [27,28,29]],\n",
    "  ]) # [3,3,3]\n",
    "\n",
    "# print(A)\n",
    "# print(B)\n",
    "\n",
    "print(tf.matmul(A,B)) # [3,3,3]"
   ]
  }
 ],
 "metadata": {
  "kernelspec": {
   "display_name": "Python 3",
   "language": "python",
   "name": "python3"
  },
  "language_info": {
   "codemirror_mode": {
    "name": "ipython",
    "version": 3
   },
   "file_extension": ".py",
   "mimetype": "text/x-python",
   "name": "python",
   "nbconvert_exporter": "python",
   "pygments_lexer": "ipython3",
   "version": "3.8.10"
  }
 },
 "nbformat": 4,
 "nbformat_minor": 2
}
