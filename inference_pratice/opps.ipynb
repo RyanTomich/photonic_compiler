{
 "cells": [
  {
   "cell_type": "code",
   "execution_count": 2,
   "metadata": {},
   "outputs": [
    {
     "name": "stdout",
     "output_type": "stream",
     "text": [
      "True\n"
     ]
    }
   ],
   "source": [
    "import numpy as np\n",
    "total = [0]\n",
    "def my_matmult(m1, m2):\n",
    "    ans_mat = np.empty((0,m2.shape[1]))\n",
    "    for row in m1:\n",
    "        ans_row = np.array([])\n",
    "        for col in m2.T:\n",
    "            ans_row = np.append(ans_row, np.dot(row, col))\n",
    "            total[0] += len(row)*2\n",
    "        ans_mat = np.vstack((ans_mat,ans_row))\n",
    "    return ans_mat\n",
    "\n",
    "a = np.random.rand(3, 2)\n",
    "b = np.random.rand(2, 3)\n",
    "\n",
    "print(np.array_equal(a@b, my_matmult(a,b)))\n"
   ]
  },
  {
   "cell_type": "code",
   "execution_count": 3,
   "metadata": {},
   "outputs": [
    {
     "name": "stdout",
     "output_type": "stream",
     "text": [
      "True\n"
     ]
    }
   ],
   "source": [
    "def tensor_product(m1, m2):\n",
    "  ans = np.empty( (0, m1.shape[-2], m2.shape[-1]) )\n",
    "  for i in range(m1.shape[0]):\n",
    "    matmult = np.expand_dims(my_matmult(m1[i], m2[i]), axis=0)\n",
    "    ans = np.vstack((ans, matmult))\n",
    "  return ans\n",
    "\n",
    "a = np.random.rand(2, 3, 4)\n",
    "b = np.random.rand(2, 4, 2)\n",
    "\n",
    "print(np.allclose(tensor_product(a,b), a @ b))\n"
   ]
  },
  {
   "cell_type": "code",
   "execution_count": 4,
   "metadata": {},
   "outputs": [
    {
     "name": "stdout",
     "output_type": "stream",
     "text": [
      "True\n",
      "[24576]\n"
     ]
    }
   ],
   "source": [
    "def nd_tensor_product(m1, m2):\n",
    "  ans_shape = m1.shape[:-2] + (m1.shape[-2], m2.shape[-1])\n",
    "  ans = np.empty(ans_shape)\n",
    "  for i in range(m1.shape[0]):\n",
    "    if len(m1.shape) == 3:\n",
    "        ans[i] = my_matmult(m1[i], m2[i])\n",
    "\n",
    "    else:\n",
    "        ans[i] = nd_tensor_product(m1[i], m2[i])\n",
    "  return ans\n",
    "\n",
    "a = np.random.rand(12, 4, 64)\n",
    "b = np.random.rand(12, 64, 4)\n",
    "\n",
    "total = [0]\n",
    "\n",
    "print(np.allclose(nd_tensor_product(a,b), a @ b))\n",
    "print(total)"
   ]
  },
  {
   "cell_type": "code",
   "execution_count": 3,
   "metadata": {},
   "outputs": [],
   "source": [
    "import numpy as np"
   ]
  },
  {
   "cell_type": "code",
   "execution_count": 23,
   "metadata": {},
   "outputs": [],
   "source": [
    "def absmax_quantization(m1, type=np.int8):\n",
    "    matrix = np.empty((0, m1.shape[-1]))\n",
    "    row_constants = []\n",
    "    data_max = np.iinfo(type).max\n",
    "    for row in m1:\n",
    "        norm_range = round((data_max/2)**(1/2))\n",
    "\n",
    "        row_constant = norm_range/np.max(abs(row))\n",
    "        tow_type = (row * row_constant).astype(type)\n",
    "        matrix.vstack(tow_type)\n",
    "        row_constants += row_constant\n",
    "    return matrix, row_constants\n",
    "\n",
    "# def zeropoint_quantization(m1, type=np.int8):\n",
    "#     return (m1 * 2* np.iinfo(type).max)/ (max(m1) - min(m1))\n"
   ]
  },
  {
   "cell_type": "code",
   "execution_count": 22,
   "metadata": {},
   "outputs": [
    {
     "name": "stdout",
     "output_type": "stream",
     "text": [
      "[[ 83.59729455 -61.05295378  94.18623868]\n",
      " [ 85.78888278 -78.75996448  65.36486141]]\n",
      "[[-45.01908378 -78.2509068   54.87254097   8.33575975 -37.11951929]\n",
      " [-41.50846467  85.60612985  -4.59093398  -7.84990055 -22.20440179]\n",
      " [ 28.97236314  26.89287862 -84.85988416  66.30060033  62.96910354]]\n",
      "\n",
      "[[  1499.53867814  -9235.13210888  -3125.14725318   7420.71074612\n",
      "    4183.37594457]\n",
      " [  1300.84280399 -11697.54433308   -477.81878473   5667.10295654\n",
      "    2680.34253364]]\n",
      "(2, 3)\n",
      "(3, 5)\n"
     ]
    },
    {
     "data": {
      "text/plain": [
       "array([[  1484.73069851,  -9151.98435538,  -3134.81423583,\n",
       "          7347.37465322,   4194.35192025],\n",
       "       [  1302.15360565, -11686.90242897,   -459.64152218,\n",
       "          5551.62313884,   2668.77513358]])"
      ]
     },
     "execution_count": 22,
     "metadata": {},
     "output_type": "execute_result"
    }
   ],
   "source": [
    "\n",
    "\n",
    "def my_matmul(m1, m2):\n",
    "    m1, m1_const = absmax_quantization(m1, np.int16)\n",
    "    m2, m2_const = absmax_quantization(m2, np.int16)\n",
    "\n",
    "    ans = np.matmul(m1,m2)\n",
    "\n",
    "    ans = (ans.astype(np.float64))/ (m1_const * m2_const)\n",
    "    return ans\n",
    "\n",
    "def nd_tensor_product(m1, m2):\n",
    "    ans_shape = m1.shape[:-2] + (m1.shape[-2], m2.shape[-1])\n",
    "    ans = np.empty(ans_shape)\n",
    "    if len(ans_shape) < 3:\n",
    "        return my_matmul(m1, m2)\n",
    "    else:\n",
    "        for i in range(ans_shape[0]):\n",
    "            ans[i] = nd_tensor_product(m1[i], m2[i])\n",
    "    return ans\n",
    "\n",
    "a = np.random.uniform(-100, 100, size=(2, 3))\n",
    "b = np.random.uniform(-100, 100, size=(3, 5))\n",
    "\n",
    "print(a)\n",
    "print(b)\n",
    "print()\n",
    "print(np.matmul(a,b))\n",
    "nd_tensor_product(a,b)\n"
   ]
  },
  {
   "cell_type": "code",
   "execution_count": null,
   "metadata": {},
   "outputs": [],
   "source": []
  }
 ],
 "metadata": {
  "kernelspec": {
   "display_name": "Python 3",
   "language": "python",
   "name": "python3"
  },
  "language_info": {
   "codemirror_mode": {
    "name": "ipython",
    "version": 3
   },
   "file_extension": ".py",
   "mimetype": "text/x-python",
   "name": "python",
   "nbconvert_exporter": "python",
   "pygments_lexer": "ipython3",
   "version": "3.8.10"
  }
 },
 "nbformat": 4,
 "nbformat_minor": 2
}
