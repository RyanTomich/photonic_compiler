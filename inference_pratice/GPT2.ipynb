{
 "cells": [
  {
   "cell_type": "markdown",
   "metadata": {},
   "source": [
    "# Inference using packages\n",
    "\n",
    "Differen gpt2 model options\n",
    "- gpt2: This is the \"small\" version of GPT-2. It has 124 million parameters.\n",
    "- gpt2-medium: This is the \"medium\" version of GPT-2. It has 355 million parameters.\n",
    "- gpt2-large: This is the \"large\" version of GPT-2. It has 774 million parameters.\n",
    "- gpt2-xl: This is the \"extra large\" version of GPT-2. It has 1.5 billion parameters.\n"
   ]
  },
  {
   "cell_type": "code",
   "execution_count": 83,
   "metadata": {},
   "outputs": [
    {
     "name": "stdout",
     "output_type": "stream",
     "text": [
      "GPT2LMHeadModel(\n",
      "  (transformer): GPT2Model(\n",
      "    (wte): Embedding(50257, 768)\n",
      "    (wpe): Embedding(1024, 768)\n",
      "    (drop): Dropout(p=0.1, inplace=False)\n",
      "    (h): ModuleList(\n",
      "      (0-11): 12 x GPT2Block(\n",
      "        (ln_1): LayerNorm((768,), eps=1e-05, elementwise_affine=True)\n",
      "        (attn): GPT2Attention(\n",
      "          (c_attn): Conv1D()\n",
      "          (c_proj): Conv1D()\n",
      "          (attn_dropout): Dropout(p=0.1, inplace=False)\n",
      "          (resid_dropout): Dropout(p=0.1, inplace=False)\n",
      "        )\n",
      "        (ln_2): LayerNorm((768,), eps=1e-05, elementwise_affine=True)\n",
      "        (mlp): GPT2MLP(\n",
      "          (c_fc): Conv1D()\n",
      "          (c_proj): Conv1D()\n",
      "          (act): NewGELUActivation()\n",
      "          (dropout): Dropout(p=0.1, inplace=False)\n",
      "        )\n",
      "      )\n",
      "    )\n",
      "    (ln_f): LayerNorm((768,), eps=1e-05, elementwise_affine=True)\n",
      "  )\n",
      "  (lm_head): Linear(in_features=768, out_features=50257, bias=False)\n",
      ")\n"
     ]
    }
   ],
   "source": [
    "from transformers import GPT2LMHeadModel, GPT2Tokenizer\n",
    "gpt2 = GPT2LMHeadModel.from_pretrained('gpt2') # loading gpt2 from transformers library\n",
    "gpt2_tokenizer = GPT2Tokenizer.from_pretrained('gpt2') # loading gpt2 tokenizer from transformers library\n",
    "print(gpt2)"
   ]
  },
  {
   "cell_type": "code",
   "execution_count": 84,
   "metadata": {},
   "outputs": [
    {
     "name": "stderr",
     "output_type": "stream",
     "text": [
      "The attention mask and the pad token id were not set. As a consequence, you may observe unexpected behavior. Please pass your input's `attention_mask` to obtain reliable results.\n",
      "Setting `pad_token_id` to `eos_token_id`:50256 for open-end generation.\n"
     ]
    },
    {
     "name": "stdout",
     "output_type": "stream",
     "text": [
      "A long time ago in a galaxy far far away...\n",
      "\n",
      "The first human-made planet was discovered in the early 1960s by a team of astronomers from the University of California, Berkeley.\n",
      "\n",
      "The discovery of the first human-made planet was made by a team of astronomers from the University of California, Berkeley.\n",
      "\n",
      "The first human-made planet was discovered in the early 1960s by a team of astronomers from the University of California, Berkeley.\n",
      "\n",
      "The first human-made\n"
     ]
    }
   ],
   "source": [
    "input_text = \"A long time ago in a galaxy far far away ...\"\n",
    "input_ids = gpt2_tokenizer.encode(input_text, return_tensors='pt') # tokenize input\n",
    "output = gpt2.generate(input_ids, max_length=100) # run inference\n",
    "generated_text = gpt2_tokenizer.decode(output[0], skip_special_tokens=True) # decode output tokens\n",
    "print(generated_text)"
   ]
  },
  {
   "cell_type": "markdown",
   "metadata": {},
   "source": [
    "# Inference using Numpy"
   ]
  },
  {
   "cell_type": "code",
   "execution_count": 119,
   "metadata": {},
   "outputs": [],
   "source": [
    "import numpy as np\n",
    "\n",
    "def torch_to_numpy(tensor):\n",
    "    # necessary because numpy will be run on CPU. More complicated otherwise.\n",
    "    if tensor.is_cuda:\n",
    "        tensor = tensor.cpu()\n",
    "    numpy_array = tensor.numpy()\n",
    "    return numpy_array.copy()\n",
    "\n",
    "def softmax(vec):\n",
    "    max_val = np.max(vec)\n",
    "    exp = np.exp(vec - max_val)\n",
    "    sum_exp = np.sum(exp)\n",
    "    return exp/sum_exp\n",
    "\n",
    "def gelu(x): # from https://github.com/openai/gpt-2.git\n",
    "    return 0.5*x*(1+np.tanh(np.sqrt(2/np.pi)*(x+0.044715*np.power(x, 3))))\n",
    "\n",
    "def ReLU(x):\n",
    "    return np.maximum(0, x)"
   ]
  },
  {
   "cell_type": "code",
   "execution_count": null,
   "metadata": {},
   "outputs": [],
   "source": []
  },
  {
   "cell_type": "code",
   "execution_count": 120,
   "metadata": {},
   "outputs": [],
   "source": [
    "state_dict = gpt2.state_dict()\n",
    "for name, param in state_dict.items():\n",
    "    ans = torch_to_numpy(param)\n",
    "    if 'h.' not in name: # each h.# refers to a transformer blocks\n",
    "        # print(f'{name}: {ans.shape}')\n",
    "        pass\n",
    "\n",
    "for i in range(12):\n",
    "    counter = 0\n",
    "    for name, param in state_dict.items():\n",
    "        ans = torch_to_numpy(param)\n",
    "        if 'h.'+ str(i)+ '.' in name: # each h.# refers to a transformer block\n",
    "            # print(f'{name}: {ans.shape}')\n",
    "            counter +=1\n",
    "    # print(f'h.{i}: {counter}')"
   ]
  },
  {
   "cell_type": "code",
   "execution_count": 121,
   "metadata": {},
   "outputs": [],
   "source": [
    "def decode_block(emb, parameters, head_num):\n",
    "    '''\n",
    "    emb (): Something...\n",
    "    paramaters(dict): dictionary maping names to tensors\n",
    "    '''\n",
    "\n",
    "    # ln_1 normalization\n",
    "    weights = parameters['transformer.h.'+ str(head_num) + '.ln_1.weight'].numpy()\n",
    "    bias = parameters['transformer.h.'+ str(head_num) + '.ln_1.bias'].numpy()\n",
    "    emb_norm1 =  (emb * weights) + bias # (768,)\n",
    "\n",
    "\n",
    "    # attn (applied to every token embeding vector)\n",
    "    # query, key, vector\n",
    "    q_weights = parameters['transformer.h.'+ str(head_num) + '.attn.c_attn.weight'][:, :768].numpy()\n",
    "    k_weights = parameters['transformer.h.'+ str(head_num) + '.attn.c_attn.weight'][:, 768:1536].numpy()\n",
    "    v_weights = parameters['transformer.h.'+ str(head_num) + '.attn.c_attn.weight'][:, 1536:].numpy()\n",
    "    assert q_weights.shape == k_weights.shape == k_weights.shape == (768, 768)\n",
    "\n",
    "    q_bias = parameters['transformer.h.'+ str(head_num) + '.attn.c_attn.bias'][:768].numpy()\n",
    "    k_bias = parameters['transformer.h.'+ str(head_num) + '.attn.c_attn.bias'][768:1536].numpy()\n",
    "    v_bias = parameters['transformer.h.'+ str(head_num) + '.attn.c_attn.bias'][1536:].numpy()\n",
    "\n",
    "    assert q_bias.shape == k_bias.shape == v_bias.shape == (768,)\n",
    "\n",
    "    context_matrix = np.zeros_like(emb_norm1)\n",
    "    for i, tok_embed_vector in enumerate(emb_norm1): # loop through each token embeding\n",
    "        # qkv vectors (786,)\n",
    "        query = (tok_embed_vector @ q_weights.T) + q_bias\n",
    "        key = (tok_embed_vector @ k_weights.T) + k_bias\n",
    "        value = (tok_embed_vector @ v_weights.T) + v_bias\n",
    "\n",
    "        attn_score = query.reshape(query.shape[0], 1) @ key.reshape(1, key.shape[0]) # matrix\n",
    "        attn_score = attn_score / (key.shape[0])**(1/2)\n",
    "        attn_prob = np.zeros_like(attn_score) #(786, 786)\n",
    "        for j, row in enumerate(attn_score):\n",
    "            attn_prob[j] = softmax(row)\n",
    "\n",
    "        context_vec =  attn_prob @ value\n",
    "\n",
    "        weights = parameters['transformer.h.'+ str(head_num) + '.attn.c_proj.weight'].numpy()\n",
    "        bias = parameters['transformer.h.'+ str(head_num) + '.attn.c_proj.bias'].numpy()\n",
    "        context_vec_scaled = (context_vec @ weights) + bias # (768,)\n",
    "        context_matrix[i] = context_vec_scaled\n",
    "\n",
    "\n",
    "    # residual connection\n",
    "    context_matrix += emb\n",
    "\n",
    "    # ln_2 normalization\n",
    "    weights = parameters['transformer.h.'+ str(head_num) + '.ln_2.weight'].numpy()\n",
    "    bias = parameters['transformer.h.'+ str(head_num) + '.ln_2.bias'].numpy()\n",
    "    emb_norm2 =  (context_matrix * weights) + bias\n",
    "\n",
    "\n",
    "    # mlp\n",
    "    weights = parameters['transformer.h.'+ str(head_num) + '.mlp.c_fc.weight'].numpy()\n",
    "    bias = parameters['transformer.h.'+ str(head_num) + '.mlp.c_fc.bias'].numpy()\n",
    "    emb_mlp_l1 = (emb_norm2 @ weights) + bias\n",
    "\n",
    "    emb_mlp_l1 = gelu(emb_mlp_l1)\n",
    "\n",
    "    weights = parameters['transformer.h.'+ str(head_num) + '.mlp.c_proj.weight'].numpy()\n",
    "    bias = parameters['transformer.h.'+ str(head_num) + '.mlp.c_proj.bias'].numpy()\n",
    "    emb_mlp_l2 = (emb_mlp_l1 @ weights) + bias\n",
    "\n",
    "    # Residual Connection\n",
    "    emb_mlp_l2 += emb_norm2\n",
    "\n",
    "    return emb_mlp_l2\n"
   ]
  },
  {
   "cell_type": "code",
   "execution_count": 122,
   "metadata": {},
   "outputs": [],
   "source": [
    "def next_token(prompt, parameters):\n",
    "    '''\n",
    "    prompt (str):\n",
    "    parameters(dict): dictionary maping names to tensors\n",
    "    '''\n",
    "    tok = gpt2_tokenizer.encode(prompt, return_tensors='np')\n",
    "    tok = tok.squeeze()\n",
    "\n",
    "     # word token embeddings\n",
    "    tok_emb = parameters['transformer.wte.weight'][tok,:].numpy()\n",
    "\n",
    "    # word position embeddings\n",
    "    sequence_length = tok.shape[0]\n",
    "    position_ids = np.arange(sequence_length) #indicies\n",
    "    position_emb = parameters['transformer.wpe.weight'][position_ids,:].numpy()\n",
    "    emb = tok_emb + position_emb\n",
    "\n",
    "    head_result = emb\n",
    "    for head_num in range(12):\n",
    "        head_result = decode_block(head_result, parameters, head_num) # (11, 768)\n",
    "\n",
    "    # ln_f\n",
    "    weights = parameters['transformer.ln_f.weight'].numpy()\n",
    "    bias = parameters['transformer.ln_f.bias'].numpy()\n",
    "    head_norm =  (head_result * weights) + bias #(11, 768)\n",
    "\n",
    "    # lm_head\n",
    "    weights = parameters['lm_head.weight'].numpy() #  (50257, 768)\n",
    "    logit_matrix = head_norm @ weights.T\n",
    "\n",
    "    # apply softmax to last words logit\n",
    "    last_logit_distrabution = softmax(logit_matrix[-1])\n",
    "    next_token = np.argmax(last_logit_distrabution)\n",
    "    token_decoded = gpt2_tokenizer.decode(next_token, skip_special_tokens=True)\n",
    "    return (token_decoded)\n"
   ]
  },
  {
   "cell_type": "code",
   "execution_count": 123,
   "metadata": {},
   "outputs": [
    {
     "name": "stdout",
     "output_type": "stream",
     "text": [
      "addition number: 0\n",
      "What is starwars?,\n",
      "addition number: 1\n",
      "What is starwars?,,\n",
      "addition number: 2\n",
      "What is starwars?,, and\n",
      "addition number: 3\n",
      "What is starwars?,, and capital\n",
      "addition number: 4\n",
      "What is starwars?,, and capital net\n",
      "What is starwars?,, and capital net\n"
     ]
    }
   ],
   "source": [
    "def main(prompt, state_dict):\n",
    "    for i in range(5):\n",
    "        print(f'addition number: {i}')\n",
    "        addition = next_token(prompt, state_dict)\n",
    "        prompt += addition\n",
    "        print(prompt)\n",
    "\n",
    "\n",
    "    print(prompt)\n",
    "main('What is starwars?', state_dict)"
   ]
  },
  {
   "cell_type": "code",
   "execution_count": null,
   "metadata": {},
   "outputs": [],
   "source": []
  }
 ],
 "metadata": {
  "kernelspec": {
   "display_name": "Python 3 (ipykernel)",
   "language": "python",
   "name": "python3"
  },
  "language_info": {
   "codemirror_mode": {
    "name": "ipython",
    "version": 3
   },
   "file_extension": ".py",
   "mimetype": "text/x-python",
   "name": "python",
   "nbconvert_exporter": "python",
   "pygments_lexer": "ipython3",
   "version": "3.8.10"
  }
 },
 "nbformat": 4,
 "nbformat_minor": 2
}
