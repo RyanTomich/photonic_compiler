{
 "cells": [
  {
   "cell_type": "markdown",
   "metadata": {},
   "source": [
    "# Inference using packages\n",
    "\n",
    "Differen gpt2 model options\n",
    "- gpt2: This is the \"small\" version of GPT-2. It has 124 million parameters.\n",
    "- gpt2-medium: This is the \"medium\" version of GPT-2. It has 355 million parameters.\n",
    "- gpt2-large: This is the \"large\" version of GPT-2. It has 774 million parameters.\n",
    "- gpt2-xl: This is the \"extra large\" version of GPT-2. It has 1.5 billion parameters.\n"
   ]
  },
  {
   "cell_type": "code",
   "execution_count": 20,
   "metadata": {},
   "outputs": [
    {
     "name": "stderr",
     "output_type": "stream",
     "text": [
      "/home/rjtomich/.local/lib/python3.8/site-packages/huggingface_hub/file_download.py:1132: FutureWarning: `resume_download` is deprecated and will be removed in version 1.0.0. Downloads always resume when possible. If you want to force a new download, use `force_download=True`.\n",
      "  warnings.warn(\n"
     ]
    }
   ],
   "source": [
    "from transformers import GPT2LMHeadModel, GPT2Tokenizer\n",
    "gpt2 = GPT2LMHeadModel.from_pretrained('gpt2') # loading gpt2 from transformers library\n",
    "gpt2_tokenizer = GPT2Tokenizer.from_pretrained('gpt2') # loading gpt2 tokenizer from transformers library"
   ]
  },
  {
   "cell_type": "code",
   "execution_count": 23,
   "metadata": {},
   "outputs": [
    {
     "name": "stderr",
     "output_type": "stream",
     "text": [
      "The attention mask and the pad token id were not set. As a consequence, you may observe unexpected behavior. Please pass your input's `attention_mask` to obtain reliable results.\n",
      "Setting `pad_token_id` to `eos_token_id`:50256 for open-end generation.\n"
     ]
    },
    {
     "name": "stdout",
     "output_type": "stream",
     "text": [
      "A long time ago in a galaxy far far away...\n",
      "\n",
      "The first human-made planet was discovered in the early 1960s by a team of astronomers from the University of California, Berkeley.\n",
      "\n",
      "The discovery of the first human-made planet\n"
     ]
    }
   ],
   "source": [
    "input_text = \"A long time ago in a galaxy far far away ...\"\n",
    "input_ids = gpt2_tokenizer.encode(input_text, return_tensors='pt') # tokenize input\n",
    "output = gpt2.generate(input_ids, max_length=50) # run inference\n",
    "generated_text = gpt2_tokenizer.decode(output[0], skip_special_tokens=True) # decode output tokens\n",
    "print(generated_text)"
   ]
  },
  {
   "cell_type": "markdown",
   "metadata": {},
   "source": [
    "# Inference using Numpy"
   ]
  },
  {
   "cell_type": "code",
   "execution_count": 18,
   "metadata": {},
   "outputs": [],
   "source": [
    "import numpy as np\n",
    "\n",
    "def torch_to_numpy(tensor):\n",
    "    # nessessarry because numpy will be run on CPU. More complicated otherwise.\n",
    "    if tensor.is_cuda:\n",
    "        tensor = tensor.cpu()\n",
    "    numpy_array = tensor.numpy()\n",
    "    return numpy_array.copy()"
   ]
  },
  {
   "cell_type": "code",
   "execution_count": 27,
   "metadata": {},
   "outputs": [
    {
     "name": "stdout",
     "output_type": "stream",
     "text": [
      "transformer.wte.weight: (50257, 768)\n",
      "transformer.wpe.weight: (1024, 768)\n",
      "transformer.h.0.ln_1.weight: (768,)\n",
      "transformer.h.0.ln_1.bias: (768,)\n",
      "transformer.h.0.attn.c_attn.weight: (768, 2304)\n",
      "transformer.h.0.attn.c_attn.bias: (2304,)\n",
      "transformer.h.0.attn.c_proj.weight: (768, 768)\n",
      "transformer.h.0.attn.c_proj.bias: (768,)\n",
      "transformer.h.0.ln_2.weight: (768,)\n",
      "transformer.h.0.ln_2.bias: (768,)\n",
      "transformer.h.0.mlp.c_fc.weight: (768, 3072)\n",
      "transformer.h.0.mlp.c_fc.bias: (3072,)\n",
      "transformer.h.0.mlp.c_proj.weight: (3072, 768)\n",
      "transformer.h.0.mlp.c_proj.bias: (768,)\n",
      "transformer.h.1.ln_1.weight: (768,)\n",
      "transformer.h.1.ln_1.bias: (768,)\n",
      "transformer.h.1.attn.c_attn.weight: (768, 2304)\n",
      "transformer.h.1.attn.c_attn.bias: (2304,)\n",
      "transformer.h.1.attn.c_proj.weight: (768, 768)\n",
      "transformer.h.1.attn.c_proj.bias: (768,)\n",
      "transformer.h.1.ln_2.weight: (768,)\n",
      "transformer.h.1.ln_2.bias: (768,)\n",
      "transformer.h.1.mlp.c_fc.weight: (768, 3072)\n",
      "transformer.h.1.mlp.c_fc.bias: (3072,)\n",
      "transformer.h.1.mlp.c_proj.weight: (3072, 768)\n",
      "transformer.h.1.mlp.c_proj.bias: (768,)\n",
      "transformer.h.2.ln_1.weight: (768,)\n",
      "transformer.h.2.ln_1.bias: (768,)\n",
      "transformer.h.2.attn.c_attn.weight: (768, 2304)\n",
      "transformer.h.2.attn.c_attn.bias: (2304,)\n",
      "transformer.h.2.attn.c_proj.weight: (768, 768)\n",
      "transformer.h.2.attn.c_proj.bias: (768,)\n",
      "transformer.h.2.ln_2.weight: (768,)\n",
      "transformer.h.2.ln_2.bias: (768,)\n",
      "transformer.h.2.mlp.c_fc.weight: (768, 3072)\n",
      "transformer.h.2.mlp.c_fc.bias: (3072,)\n",
      "transformer.h.2.mlp.c_proj.weight: (3072, 768)\n",
      "transformer.h.2.mlp.c_proj.bias: (768,)\n",
      "transformer.h.3.ln_1.weight: (768,)\n",
      "transformer.h.3.ln_1.bias: (768,)\n",
      "transformer.h.3.attn.c_attn.weight: (768, 2304)\n",
      "transformer.h.3.attn.c_attn.bias: (2304,)\n",
      "transformer.h.3.attn.c_proj.weight: (768, 768)\n",
      "transformer.h.3.attn.c_proj.bias: (768,)\n",
      "transformer.h.3.ln_2.weight: (768,)\n",
      "transformer.h.3.ln_2.bias: (768,)\n",
      "transformer.h.3.mlp.c_fc.weight: (768, 3072)\n",
      "transformer.h.3.mlp.c_fc.bias: (3072,)\n",
      "transformer.h.3.mlp.c_proj.weight: (3072, 768)\n",
      "transformer.h.3.mlp.c_proj.bias: (768,)\n",
      "transformer.h.4.ln_1.weight: (768,)\n",
      "transformer.h.4.ln_1.bias: (768,)\n",
      "transformer.h.4.attn.c_attn.weight: (768, 2304)\n",
      "transformer.h.4.attn.c_attn.bias: (2304,)\n",
      "transformer.h.4.attn.c_proj.weight: (768, 768)\n",
      "transformer.h.4.attn.c_proj.bias: (768,)\n",
      "transformer.h.4.ln_2.weight: (768,)\n",
      "transformer.h.4.ln_2.bias: (768,)\n",
      "transformer.h.4.mlp.c_fc.weight: (768, 3072)\n",
      "transformer.h.4.mlp.c_fc.bias: (3072,)\n",
      "transformer.h.4.mlp.c_proj.weight: (3072, 768)\n",
      "transformer.h.4.mlp.c_proj.bias: (768,)\n",
      "transformer.h.5.ln_1.weight: (768,)\n",
      "transformer.h.5.ln_1.bias: (768,)\n",
      "transformer.h.5.attn.c_attn.weight: (768, 2304)\n",
      "transformer.h.5.attn.c_attn.bias: (2304,)\n",
      "transformer.h.5.attn.c_proj.weight: (768, 768)\n",
      "transformer.h.5.attn.c_proj.bias: (768,)\n",
      "transformer.h.5.ln_2.weight: (768,)\n",
      "transformer.h.5.ln_2.bias: (768,)\n",
      "transformer.h.5.mlp.c_fc.weight: (768, 3072)\n",
      "transformer.h.5.mlp.c_fc.bias: (3072,)\n",
      "transformer.h.5.mlp.c_proj.weight: (3072, 768)\n",
      "transformer.h.5.mlp.c_proj.bias: (768,)\n",
      "transformer.h.6.ln_1.weight: (768,)\n",
      "transformer.h.6.ln_1.bias: (768,)\n",
      "transformer.h.6.attn.c_attn.weight: (768, 2304)\n",
      "transformer.h.6.attn.c_attn.bias: (2304,)\n",
      "transformer.h.6.attn.c_proj.weight: (768, 768)\n",
      "transformer.h.6.attn.c_proj.bias: (768,)\n",
      "transformer.h.6.ln_2.weight: (768,)\n",
      "transformer.h.6.ln_2.bias: (768,)\n",
      "transformer.h.6.mlp.c_fc.weight: (768, 3072)\n",
      "transformer.h.6.mlp.c_fc.bias: (3072,)\n",
      "transformer.h.6.mlp.c_proj.weight: (3072, 768)\n",
      "transformer.h.6.mlp.c_proj.bias: (768,)\n",
      "transformer.h.7.ln_1.weight: (768,)\n",
      "transformer.h.7.ln_1.bias: (768,)\n",
      "transformer.h.7.attn.c_attn.weight: (768, 2304)\n",
      "transformer.h.7.attn.c_attn.bias: (2304,)\n",
      "transformer.h.7.attn.c_proj.weight: (768, 768)\n",
      "transformer.h.7.attn.c_proj.bias: (768,)\n",
      "transformer.h.7.ln_2.weight: (768,)\n",
      "transformer.h.7.ln_2.bias: (768,)\n",
      "transformer.h.7.mlp.c_fc.weight: (768, 3072)\n",
      "transformer.h.7.mlp.c_fc.bias: (3072,)\n",
      "transformer.h.7.mlp.c_proj.weight: (3072, 768)\n",
      "transformer.h.7.mlp.c_proj.bias: (768,)\n",
      "transformer.h.8.ln_1.weight: (768,)\n",
      "transformer.h.8.ln_1.bias: (768,)\n",
      "transformer.h.8.attn.c_attn.weight: (768, 2304)\n",
      "transformer.h.8.attn.c_attn.bias: (2304,)\n",
      "transformer.h.8.attn.c_proj.weight: (768, 768)\n",
      "transformer.h.8.attn.c_proj.bias: (768,)\n",
      "transformer.h.8.ln_2.weight: (768,)\n",
      "transformer.h.8.ln_2.bias: (768,)\n",
      "transformer.h.8.mlp.c_fc.weight: (768, 3072)\n",
      "transformer.h.8.mlp.c_fc.bias: (3072,)\n",
      "transformer.h.8.mlp.c_proj.weight: (3072, 768)\n",
      "transformer.h.8.mlp.c_proj.bias: (768,)\n",
      "transformer.h.9.ln_1.weight: (768,)\n",
      "transformer.h.9.ln_1.bias: (768,)\n",
      "transformer.h.9.attn.c_attn.weight: (768, 2304)\n",
      "transformer.h.9.attn.c_attn.bias: (2304,)\n",
      "transformer.h.9.attn.c_proj.weight: (768, 768)\n",
      "transformer.h.9.attn.c_proj.bias: (768,)\n",
      "transformer.h.9.ln_2.weight: (768,)\n",
      "transformer.h.9.ln_2.bias: (768,)\n",
      "transformer.h.9.mlp.c_fc.weight: (768, 3072)\n",
      "transformer.h.9.mlp.c_fc.bias: (3072,)\n",
      "transformer.h.9.mlp.c_proj.weight: (3072, 768)\n",
      "transformer.h.9.mlp.c_proj.bias: (768,)\n",
      "transformer.h.10.ln_1.weight: (768,)\n",
      "transformer.h.10.ln_1.bias: (768,)\n",
      "transformer.h.10.attn.c_attn.weight: (768, 2304)\n",
      "transformer.h.10.attn.c_attn.bias: (2304,)\n",
      "transformer.h.10.attn.c_proj.weight: (768, 768)\n",
      "transformer.h.10.attn.c_proj.bias: (768,)\n",
      "transformer.h.10.ln_2.weight: (768,)\n",
      "transformer.h.10.ln_2.bias: (768,)\n",
      "transformer.h.10.mlp.c_fc.weight: (768, 3072)\n",
      "transformer.h.10.mlp.c_fc.bias: (3072,)\n",
      "transformer.h.10.mlp.c_proj.weight: (3072, 768)\n",
      "transformer.h.10.mlp.c_proj.bias: (768,)\n",
      "transformer.h.11.ln_1.weight: (768,)\n",
      "transformer.h.11.ln_1.bias: (768,)\n",
      "transformer.h.11.attn.c_attn.weight: (768, 2304)\n",
      "transformer.h.11.attn.c_attn.bias: (2304,)\n",
      "transformer.h.11.attn.c_proj.weight: (768, 768)\n",
      "transformer.h.11.attn.c_proj.bias: (768,)\n",
      "transformer.h.11.ln_2.weight: (768,)\n",
      "transformer.h.11.ln_2.bias: (768,)\n",
      "transformer.h.11.mlp.c_fc.weight: (768, 3072)\n",
      "transformer.h.11.mlp.c_fc.bias: (3072,)\n",
      "transformer.h.11.mlp.c_proj.weight: (3072, 768)\n",
      "transformer.h.11.mlp.c_proj.bias: (768,)\n",
      "transformer.ln_f.weight: (768,)\n",
      "transformer.ln_f.bias: (768,)\n",
      "lm_head.weight: (50257, 768)\n"
     ]
    }
   ],
   "source": [
    "state_dict = gpt2.state_dict()\n",
    "for name, param in state_dict.items():\n",
    "    ans = torch_to_numpy(param)\n",
    "    print(f'{name}: {ans.shape}')"
   ]
  },
  {
   "cell_type": "code",
   "execution_count": null,
   "metadata": {},
   "outputs": [],
   "source": []
  }
 ],
 "metadata": {
  "kernelspec": {
   "display_name": "Python 3 (ipykernel)",
   "language": "python",
   "name": "python3"
  },
  "language_info": {
   "codemirror_mode": {
    "name": "ipython",
    "version": 3
   },
   "file_extension": ".py",
   "mimetype": "text/x-python",
   "name": "python",
   "nbconvert_exporter": "python",
   "pygments_lexer": "ipython3",
   "version": "3.8.10"
  }
 },
 "nbformat": 4,
 "nbformat_minor": 2
}
